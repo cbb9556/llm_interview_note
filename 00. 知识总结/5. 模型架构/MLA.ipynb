{
 "cells": [
  {
   "cell_type": "code",
   "execution_count": null,
   "metadata": {
    "collapsed": true
   },
   "outputs": [],
   "source": [
    "import torch\n",
    "\n",
    "class MulitiheadAttent(torch.nn.Module):\n",
    "    def __init__(self, num_head, hidden_size):\n",
    "        super(MulitiheadAttent, self).__init__()\n",
    "\n",
    "        self.hidden_size = hidden_size\n",
    "        self.hidden_dim = hidden_size // num_head\n",
    "\n",
    "        self.q_linear = torch.nn.Linear(hidden_size, hidden_size)\n",
    "        self.k_linear = torch.nn.Linear(hidden_size, hidden_size)\n",
    "        self.v_linear = torch.nn.Linear(hidden_size, hidden_size)\n",
    "        self.out_linear = torch.nn.Linear(hidden_size, hidden_size)\n",
    "\n",
    "    def forward(self, x, mask):\n",
    "        batch_size = x.size()[0]\n",
    "\n",
    "        q = self.q_linear(x)\n",
    "        k = self.k_linear(x)\n",
    "        v = self.v_linear(x)\n",
    "        q = self.split_head(q)\n",
    "        k = self.split_head(k)\n",
    "        v = self.split_head(v)\n",
    "\n",
    "        attn_score = torch.matmul(q, k.transpose(-1, -2)) / torch.sqrt(torch.tensor(self.hidden_dim))\n",
    "\n",
    "        if mask != None:\n",
    "            attn_score += mask* -1e-9\n",
    "\n",
    "        attn_prob = torch.softmax(attn_score, dim=-1)\n",
    "        attn_out = torch.matmul(attn_prob, v)\n",
    "        attn_out = attn_out.transpose(1, 2).contiguous().view(batch_size, -1, self.hidden_size)\n",
    "        out = self.out_linear(attn_out)\n",
    "\n",
    "        return out\n",
    "\n",
    "\n",
    "    def split_head(self, x):\n",
    "        batch_size = x.size()[0]\n",
    "        return x.view(batch_size, -1, self.num_head, self.hidden_dim)"
   ]
  }
 ],
 "metadata": {
  "kernelspec": {
   "display_name": "Python 3",
   "language": "python",
   "name": "python3"
  },
  "language_info": {
   "codemirror_mode": {
    "name": "ipython",
    "version": 2
   },
   "file_extension": ".py",
   "mimetype": "text/x-python",
   "name": "python",
   "nbconvert_exporter": "python",
   "pygments_lexer": "ipython2",
   "version": "2.7.6"
  }
 },
 "nbformat": 4,
 "nbformat_minor": 0
}
