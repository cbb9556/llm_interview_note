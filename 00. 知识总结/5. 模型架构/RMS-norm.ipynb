{
 "cells": [
  {
   "cell_type": "markdown",
   "source": [
    "参考：https://zhuanlan.zhihu.com/p/625775403"
   ],
   "metadata": {
    "collapsed": false
   }
  },
  {
   "cell_type": "code",
   "execution_count": 2,
   "outputs": [
    {
     "name": "stdout",
     "output_type": "stream",
     "text": [
      "输入和输出的形状:  torch.Size([2, 4, 8]) torch.Size([2, 4, 8])\n",
      "结果验证通过: 自己实的 RMSNorm 和 pytorch nn.RMSNorm 结果一致！\n"
     ]
    }
   ],
   "source": [
    "import torch\n",
    "import torch.nn as nn\n",
    "\n",
    "class RMSNorm(nn.Module):\n",
    "    \"\"\"nlp 领域\"\"\"\n",
    "    def __init__(self, dim):\n",
    "        \"\"\"\n",
    "        :param dim: 输入的维度\n",
    "        \"\"\"\n",
    "        super(RMSNorm, self).__init__()\n",
    "        self.scale = nn.Parameter(torch.ones(dim))  # 可学习的缩放参数\n",
    "\n",
    "    def forward(self, x):\n",
    "        # x 的形状为 [batch_size, seq_len, hidden_dim]\n",
    "\n",
    "        # 计算均方根 (RMS) shape is [2, 4, 1]\n",
    "        rms = torch.sqrt(torch.mean(x ** 2, dim=-1, keepdim=True)) # 需要以 hidden_dim为分母 求均值\n",
    "\n",
    "        # 归一化，并应用缩放参数\n",
    "        return x / rms * self.scale\n",
    "\n",
    "# 测试 RMSNorm\n",
    "batch_size, seq_len, hidden_dim = 2, 4, 8\n",
    "x = torch.randn(batch_size, seq_len, hidden_dim)\n",
    "\n",
    "rmsnorm = RMSNorm(hidden_dim)\n",
    "output = rmsnorm(x)\n",
    "\n",
    "# nn.RMSNorm 如果传入的是单个整数，则会将其视为一个单元素列表，\n",
    "# 模块会对最后一个维度进行归一化，并且该维度的大小应该符合这个指定值。\n",
    "rmsnorm_pytorch = nn.RMSNorm(dim)\n",
    "output_pytorch = rmsnorm_pytorch(x)\n",
    "\n",
    "print(\"输入和输出的形状: \", x.shape, output.shape)\n",
    "if torch.allclose(output, output_pytorch, atol=1e-6):\n",
    "    print(\"结果验证通过: 自己实的 RMSNorm 和 pytorch nn.RMSNorm 结果一致！\")\n",
    "else:\n",
    "    print(\"结果验证失败: 自己实的 RMSNorm 和 pytorch nn.RMSNorm 结果不一致。\")"
   ],
   "metadata": {
    "collapsed": false,
    "ExecuteTime": {
     "end_time": "2025-01-07T08:25:42.561336400Z",
     "start_time": "2025-01-07T08:25:42.390715200Z"
    }
   }
  },
  {
   "cell_type": "code",
   "execution_count": 3,
   "outputs": [
    {
     "ename": "SyntaxError",
     "evalue": "incomplete input (3046669178.py, line 2)",
     "output_type": "error",
     "traceback": [
      "\u001B[1;36m  Cell \u001B[1;32mIn[3], line 2\u001B[1;36m\u001B[0m\n\u001B[1;33m    \u001B[0m\n\u001B[1;37m    ^\u001B[0m\n\u001B[1;31mSyntaxError\u001B[0m\u001B[1;31m:\u001B[0m incomplete input\n"
     ]
    }
   ],
   "source": [
    "class RMSnorm(nn.Module):\n",
    "    def __init__(self, hidden_dim):\n",
    "        super(RMSnorm, self).__init__()\n",
    "        self.scale = nn.Parameter(torch.ones(hidden_dim))\n",
    "    def forward(self, x):\n",
    "        rms = torch.sqrt(torch.mean(x ** 2, dim=-1, keepdim=True))\n",
    "        return x / rms * self.scale\n"
   ],
   "metadata": {
    "collapsed": false,
    "ExecuteTime": {
     "end_time": "2025-01-07T08:26:21.832886400Z",
     "start_time": "2025-01-07T08:26:21.736149600Z"
    }
   }
  }
 ],
 "metadata": {
  "kernelspec": {
   "display_name": "Python 3",
   "language": "python",
   "name": "python3"
  },
  "language_info": {
   "codemirror_mode": {
    "name": "ipython",
    "version": 2
   },
   "file_extension": ".py",
   "mimetype": "text/x-python",
   "name": "python",
   "nbconvert_exporter": "python",
   "pygments_lexer": "ipython2",
   "version": "2.7.6"
  }
 },
 "nbformat": 4,
 "nbformat_minor": 0
}
