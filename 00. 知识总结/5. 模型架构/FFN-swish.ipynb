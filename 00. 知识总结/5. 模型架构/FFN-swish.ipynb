{
 "cells": [
  {
   "cell_type": "markdown",
   "source": [
    "FFN 层全称是 Position-wise Feed-Forward Networks（FFN）逐位置前馈神经网络"
   ],
   "metadata": {
    "collapsed": false
   }
  },
  {
   "cell_type": "code",
   "execution_count": null,
   "outputs": [],
   "source": [
    "# -*- coding  : utf-8 -*-\n",
    "# Author: honggao.zhang\n",
    "\n",
    "import torch\n",
    "import torch.nn as nn\n",
    "import torch.nn.functional as F\n",
    "\n",
    "class FFNSwiGLU(nn.Module):\n",
    "    def __init__(self, input_dim: int, hidden_dim: int):\n",
    "        super().__init__()\n",
    "        hidden_dim = int(2 * hidden_dim / 3)\n",
    "        self.fc1 = nn.Linear(input_dim, hidden_dim, bias=False)\n",
    "        self.fc2 = nn.Linear(hidden_dim, input_dim, bias=False)\n",
    "        self.fc3 = nn.Linear(input_dim, hidden_dim, bias=False)\n",
    "\n",
    "    def forward(self, x):\n",
    "        # LLaMA 官方提供的代码是使用 F.silu() 激活函数\n",
    "        return self.fc2(F.silu(self.fc1(x)) * self.fc3(x)) #\n",
    "\n",
    "layer = FFNSwiGLU(128, 256)\n",
    "x = torch.randn(1, 128)\n",
    "out = layer(x)\n",
    "print(out.shape) # torch.Size([1, 128])"
   ],
   "metadata": {
    "collapsed": false
   }
  }
 ],
 "metadata": {
  "kernelspec": {
   "display_name": "Python 3",
   "language": "python",
   "name": "python3"
  },
  "language_info": {
   "codemirror_mode": {
    "name": "ipython",
    "version": 2
   },
   "file_extension": ".py",
   "mimetype": "text/x-python",
   "name": "python",
   "nbconvert_exporter": "python",
   "pygments_lexer": "ipython2",
   "version": "2.7.6"
  }
 },
 "nbformat": 4,
 "nbformat_minor": 0
}
